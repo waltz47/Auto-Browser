{
 "cells": [
  {
   "cell_type": "code",
   "execution_count": 1,
   "metadata": {},
   "outputs": [],
   "source": [
    "import os\n",
    "import ollama"
   ]
  },
  {
   "cell_type": "code",
   "execution_count": 2,
   "metadata": {},
   "outputs": [
    {
     "name": "stdout",
     "output_type": "stream",
     "text": [
      "NAME                      ID              SIZE      MODIFIED    \n",
      "qwen2.5-coder:1.5b        6d3abb8d2d53    986 MB    3 weeks ago    \n",
      "llama3.1:latest           46e0c10c039e    4.9 GB    3 weeks ago    \n",
      "llama3.2:latest           a80c4f17acd5    2.0 GB    3 weeks ago    \n",
      "llama3.2-vision:latest    38107a0cd119    7.9 GB    6 weeks ago    \n",
      "qwen2.5-coder:3b          e7149271c296    1.9 GB    6 weeks ago    \n",
      "qwen2.5-coder:latest      2b0496514337    4.7 GB    6 weeks ago    \n"
     ]
    }
   ],
   "source": [
    "!ollama list"
   ]
  },
  {
   "cell_type": "code",
   "execution_count": 3,
   "metadata": {},
   "outputs": [],
   "source": [
    "msgs = [{'role':'system','content':'''You are a helpful assisttant.'''},{'role':'user','content':'''\n",
    "Hi. add 3 and 37\n",
    "\n",
    "'''}]\n",
    "\n",
    "def add(a: int, b: int) -> int:\n",
    "    return a+b"
   ]
  },
  {
   "cell_type": "code",
   "execution_count": 5,
   "metadata": {},
   "outputs": [
    {
     "name": "stdout",
     "output_type": "stream",
     "text": [
      "model='qwen2.5-coder:3b' created_at='2024-12-28T21:35:59.9292913Z' done=True done_reason='stop' total_duration=1798967100 load_duration=38141200 prompt_eval_count=157 prompt_eval_duration=242000000 eval_count=36 eval_duration=1516000000 message=Message(role='assistant', content='', images=None, tool_calls=[ToolCall(function=Function(name='add', arguments={'a': 3, 'b': 37}))])\n"
     ]
    }
   ],
   "source": [
    "response = ollama.chat(model=\"qwen2.5-coder:3b\", options={\"temperature\":0.0, \"top_p\":0.95,\"num_ctx\":8000},messages=msgs, tools=[add],)\n",
    "\n",
    "# assistant_response = ''\n",
    "# for chunk in response:\n",
    "#     print(chunk['message']['content'],end='',flush=True)\n",
    "#     assistant_response += chunk['message']['content']\n",
    "# print(\"\\n\")\n",
    "print(response)"
   ]
  },
  {
   "cell_type": "code",
   "execution_count": 7,
   "metadata": {},
   "outputs": [
    {
     "name": "stdout",
     "output_type": "stream",
     "text": [
      "function=Function(name='add', arguments={'a': 3, 'b': 37})\n"
     ]
    }
   ],
   "source": [
    "print(response.message.tool_calls[0])"
   ]
  }
 ],
 "metadata": {
  "kernelspec": {
   "display_name": "Python 3",
   "language": "python",
   "name": "python3"
  },
  "language_info": {
   "codemirror_mode": {
    "name": "ipython",
    "version": 3
   },
   "file_extension": ".py",
   "mimetype": "text/x-python",
   "name": "python",
   "nbconvert_exporter": "python",
   "pygments_lexer": "ipython3",
   "version": "3.10.0"
  }
 },
 "nbformat": 4,
 "nbformat_minor": 2
}
